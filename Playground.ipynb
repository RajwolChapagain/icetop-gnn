{
 "cells": [
  {
   "cell_type": "code",
   "execution_count": 1,
   "id": "67234d51-8f60-4804-98a2-68efa17e0bd0",
   "metadata": {},
   "outputs": [],
   "source": [
    "from icecube import dataio\n",
    "from icecube import dataclasses"
   ]
  },
  {
   "cell_type": "code",
   "execution_count": 2,
   "id": "cb07ff9c-ea3f-47c4-82d1-7f40b12e5114",
   "metadata": {},
   "outputs": [
    {
     "data": {
      "text/plain": [
       "['TankPulseMergerExcludedSLCTanks',\n",
       " 'OfflineIceTopHLCTankPulses',\n",
       " 'MCPrimaryInfo',\n",
       " 'MCPrimary',\n",
       " 'InIcePulses',\n",
       " 'OfflineIceTopSLCTankPulses',\n",
       " 'IceTopComponentPulses_Muon',\n",
       " 'IceTopComponentPulses_Hadron',\n",
       " 'IceTopComponentPulses_GammaFromChargedMesons',\n",
       " 'QFilterMask',\n",
       " 'IceTopComponentPulses_Gamma',\n",
       " 'IceTopComponentPulses_ElectronFromChargedMesons',\n",
       " 'IceTopComponentPulses_Electron',\n",
       " 'TankPulseMergerExcludedTanks',\n",
       " 'I3EventHeader',\n",
       " 'ClusterCleaningExcludedTanks',\n",
       " 'I3TriggerHierarchy',\n",
       " 'AirShowerComponents']"
      ]
     },
     "execution_count": 2,
     "metadata": {},
     "output_type": "execute_result"
    }
   ],
   "source": [
    "file = dataio.I3File(\"test_data/Level3_IC86.2012_12360_Run020000.i3.gz\")\n",
    "frame = file.pop_frame()\n",
    "frame.keys()"
   ]
  },
  {
   "cell_type": "code",
   "execution_count": 17,
   "id": "4b4aa907-cf4a-4180-bdb1-74922cc278b6",
   "metadata": {},
   "outputs": [
    {
     "name": "stdout",
     "output_type": "stream",
     "text": [
      "19\n",
      "DOM\t\t Time\n",
      "OMKey(19,61,0) : 9887.0\n",
      "OMKey(19,63,0) : 9896.0\n",
      "OMKey(27,61,0) : 9994.0\n",
      "OMKey(27,63,0) : 9994.0\n",
      "OMKey(28,61,0) : 10147.0\n",
      "OMKey(28,63,0) : 10179.0\n"
     ]
    }
   ],
   "source": [
    "my_frame = frame['OfflineIceTopHLCTankPulses']\n",
    "print(my_frame.keys()[0][0])\n",
    "print(\"DOM\\t\\t Time\")\n",
    "for i,j in my_frame:\n",
    "    print(str(i) + \" : \" + str(j[0].time))"
   ]
  },
  {
   "cell_type": "code",
   "execution_count": 6,
   "id": "66e4f24e-e373-4a2d-b36e-42969d737cea",
   "metadata": {},
   "outputs": [
    {
     "data": {
      "text/plain": [
       "210.22999572753906"
      ]
     },
     "execution_count": 6,
     "metadata": {},
     "output_type": "execute_result"
    }
   ],
   "source": [
    "gcd_file = dataio.I3File(\"data/GeoCalibDetectorStatus_2012.56063_V1_OctSnow_scint.i3\")\n",
    "g_frame = gcd_file.pop_frame()\n",
    "g_frame['I3Geometry'].stationgeo[19][0].position.x"
   ]
  },
  {
   "cell_type": "code",
   "execution_count": null,
   "id": "b8b34ced-9f9a-45c3-9882-93637a042166",
   "metadata": {},
   "outputs": [],
   "source": []
  }
 ],
 "metadata": {
  "kernelspec": {
   "display_name": "py3-v4.3.0: icetray/v1.10.0",
   "language": "shell",
   "name": "py3-v4.3.0_v1.10.0"
  },
  "language_info": {
   "codemirror_mode": {
    "name": "ipython",
    "version": 3
   },
   "file_extension": ".py",
   "mimetype": "text/x-python",
   "name": "python",
   "nbconvert_exporter": "python",
   "pygments_lexer": "ipython3",
   "version": "3.11.3"
  }
 },
 "nbformat": 4,
 "nbformat_minor": 5
}
